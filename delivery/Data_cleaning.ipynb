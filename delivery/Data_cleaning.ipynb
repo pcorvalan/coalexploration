{
 "cells": [
  {
   "cell_type": "code",
   "execution_count": 28,
   "metadata": {
    "collapsed": false
   },
   "outputs": [
    {
     "name": "stderr",
     "output_type": "stream",
     "text": [
      "C:\\Anaconda3\\lib\\site-packages\\matplotlib\\__init__.py:872: UserWarning: axes.color_cycle is deprecated and replaced with axes.prop_cycle; please use the latter.\n",
      "  warnings.warn(self.msg_depr % (key, alt_key))\n"
     ]
    }
   ],
   "source": [
    "%matplotlib inline\n",
    "import matplotlib.pyplot as plt\n",
    "import pandas as pd\n",
    "import seaborn as sns \n",
    "import numpy as np \n",
    "sns.set();"
   ]
  },
  {
   "cell_type": "code",
   "execution_count": 9,
   "metadata": {
    "collapsed": false
   },
   "outputs": [],
   "source": [
    "df = pd.read_excel(\"../data/coalpublic2014.xls\", header=2, index_col=\"MSHA ID\")"
   ]
  },
  {
   "cell_type": "code",
   "execution_count": 10,
   "metadata": {
    "collapsed": false
   },
   "outputs": [
    {
     "data": {
      "text/html": [
       "<div>\n",
       "<table border=\"1\" class=\"dataframe\">\n",
       "  <thead>\n",
       "    <tr style=\"text-align: right;\">\n",
       "      <th></th>\n",
       "      <th>Year</th>\n",
       "      <th>Mine Name</th>\n",
       "      <th>Mine State</th>\n",
       "      <th>Mine County</th>\n",
       "      <th>Mine Status</th>\n",
       "      <th>Mine Type</th>\n",
       "      <th>Company Type</th>\n",
       "      <th>Operation Type</th>\n",
       "      <th>Operating Company</th>\n",
       "      <th>Operating Company Address</th>\n",
       "      <th>Union Code</th>\n",
       "      <th>Coal Supply Region</th>\n",
       "      <th>Production (short tons)</th>\n",
       "      <th>Average Employees</th>\n",
       "      <th>Labor Hours</th>\n",
       "    </tr>\n",
       "    <tr>\n",
       "      <th>MSHA ID</th>\n",
       "      <th></th>\n",
       "      <th></th>\n",
       "      <th></th>\n",
       "      <th></th>\n",
       "      <th></th>\n",
       "      <th></th>\n",
       "      <th></th>\n",
       "      <th></th>\n",
       "      <th></th>\n",
       "      <th></th>\n",
       "      <th></th>\n",
       "      <th></th>\n",
       "      <th></th>\n",
       "      <th></th>\n",
       "      <th></th>\n",
       "    </tr>\n",
       "  </thead>\n",
       "  <tbody>\n",
       "    <tr>\n",
       "      <th>103381</th>\n",
       "      <td>2014</td>\n",
       "      <td>Jesse Creek H.W.M.</td>\n",
       "      <td>Alabama</td>\n",
       "      <td>Bibb</td>\n",
       "      <td>Active</td>\n",
       "      <td>Surface</td>\n",
       "      <td>Indepedent Producer Operator</td>\n",
       "      <td>Mine only</td>\n",
       "      <td>Jesse Creek Mining,llc</td>\n",
       "      <td>1615 Kent Dairy Rd, Alabaster, AL 35007</td>\n",
       "      <td>NaN</td>\n",
       "      <td>Appalachia Southern</td>\n",
       "      <td>71758</td>\n",
       "      <td>6</td>\n",
       "      <td>10494</td>\n",
       "    </tr>\n",
       "    <tr>\n",
       "      <th>100759</th>\n",
       "      <td>2014</td>\n",
       "      <td>North River #1 Underground Min</td>\n",
       "      <td>Alabama</td>\n",
       "      <td>Fayette</td>\n",
       "      <td>Active, men working, not producing</td>\n",
       "      <td>Underground</td>\n",
       "      <td>Indepedent Producer Operator</td>\n",
       "      <td>Preparation Plant</td>\n",
       "      <td>Jim Walter Resources Inc</td>\n",
       "      <td>3114 County Rd 63 S, Berry, AL 35546</td>\n",
       "      <td>United Mine Workers Of America</td>\n",
       "      <td>Appalachia Southern</td>\n",
       "      <td>0</td>\n",
       "      <td>10</td>\n",
       "      <td>20144</td>\n",
       "    </tr>\n",
       "    <tr>\n",
       "      <th>103246</th>\n",
       "      <td>2014</td>\n",
       "      <td>Bear Creek</td>\n",
       "      <td>Alabama</td>\n",
       "      <td>Franklin</td>\n",
       "      <td>Active</td>\n",
       "      <td>Surface</td>\n",
       "      <td>Indepedent Producer Operator</td>\n",
       "      <td>Mine only</td>\n",
       "      <td>Birmingham Coal &amp; Coke Co., In</td>\n",
       "      <td>912 Edenton Street, Birmingham, AL 35242</td>\n",
       "      <td>NaN</td>\n",
       "      <td>Appalachia Southern</td>\n",
       "      <td>40263</td>\n",
       "      <td>17</td>\n",
       "      <td>27476</td>\n",
       "    </tr>\n",
       "    <tr>\n",
       "      <th>103451</th>\n",
       "      <td>2014</td>\n",
       "      <td>Knight Mine</td>\n",
       "      <td>Alabama</td>\n",
       "      <td>Franklin</td>\n",
       "      <td>Active</td>\n",
       "      <td>Surface</td>\n",
       "      <td>Indepedent Producer Operator</td>\n",
       "      <td>Mine only</td>\n",
       "      <td>Birmingham Coal &amp; Coke Co., In</td>\n",
       "      <td>P.O. Box 354, Lynn, AL 35242</td>\n",
       "      <td>NaN</td>\n",
       "      <td>Appalachia Southern</td>\n",
       "      <td>100425</td>\n",
       "      <td>21</td>\n",
       "      <td>35560</td>\n",
       "    </tr>\n",
       "    <tr>\n",
       "      <th>100329</th>\n",
       "      <td>2014</td>\n",
       "      <td>Concord Mine</td>\n",
       "      <td>Alabama</td>\n",
       "      <td>Jefferson</td>\n",
       "      <td>Active</td>\n",
       "      <td>Underground</td>\n",
       "      <td>Operating Subsidiary</td>\n",
       "      <td>Preparation Plant</td>\n",
       "      <td>Oak Grove Resources Llc</td>\n",
       "      <td>8360 Taylors Ferry Rd, Hueytown, AL 35023</td>\n",
       "      <td>United Mine Workers Of America</td>\n",
       "      <td>Appalachia Southern</td>\n",
       "      <td>0</td>\n",
       "      <td>58</td>\n",
       "      <td>134504</td>\n",
       "    </tr>\n",
       "  </tbody>\n",
       "</table>\n",
       "</div>"
      ],
      "text/plain": [
       "         Year                       Mine Name Mine State Mine County  \\\n",
       "MSHA ID                                                                \n",
       "103381   2014              Jesse Creek H.W.M.    Alabama        Bibb   \n",
       "100759   2014  North River #1 Underground Min    Alabama     Fayette   \n",
       "103246   2014                      Bear Creek    Alabama    Franklin   \n",
       "103451   2014                     Knight Mine    Alabama    Franklin   \n",
       "100329   2014                    Concord Mine    Alabama   Jefferson   \n",
       "\n",
       "                                Mine Status    Mine Type  \\\n",
       "MSHA ID                                                    \n",
       "103381                               Active      Surface   \n",
       "100759   Active, men working, not producing  Underground   \n",
       "103246                               Active      Surface   \n",
       "103451                               Active      Surface   \n",
       "100329                               Active  Underground   \n",
       "\n",
       "                         Company Type     Operation Type  \\\n",
       "MSHA ID                                                    \n",
       "103381   Indepedent Producer Operator          Mine only   \n",
       "100759   Indepedent Producer Operator  Preparation Plant   \n",
       "103246   Indepedent Producer Operator          Mine only   \n",
       "103451   Indepedent Producer Operator          Mine only   \n",
       "100329           Operating Subsidiary  Preparation Plant   \n",
       "\n",
       "                      Operating Company  \\\n",
       "MSHA ID                                   \n",
       "103381           Jesse Creek Mining,llc   \n",
       "100759         Jim Walter Resources Inc   \n",
       "103246   Birmingham Coal & Coke Co., In   \n",
       "103451   Birmingham Coal & Coke Co., In   \n",
       "100329          Oak Grove Resources Llc   \n",
       "\n",
       "                         Operating Company Address  \\\n",
       "MSHA ID                                              \n",
       "103381     1615 Kent Dairy Rd, Alabaster, AL 35007   \n",
       "100759        3114 County Rd 63 S, Berry, AL 35546   \n",
       "103246    912 Edenton Street, Birmingham, AL 35242   \n",
       "103451                P.O. Box 354, Lynn, AL 35242   \n",
       "100329   8360 Taylors Ferry Rd, Hueytown, AL 35023   \n",
       "\n",
       "                             Union Code   Coal Supply Region  \\\n",
       "MSHA ID                                                        \n",
       "103381                              NaN  Appalachia Southern   \n",
       "100759   United Mine Workers Of America  Appalachia Southern   \n",
       "103246                              NaN  Appalachia Southern   \n",
       "103451                              NaN  Appalachia Southern   \n",
       "100329   United Mine Workers Of America  Appalachia Southern   \n",
       "\n",
       "         Production (short tons)  Average Employees  Labor Hours  \n",
       "MSHA ID                                                           \n",
       "103381                     71758                  6        10494  \n",
       "100759                         0                 10        20144  \n",
       "103246                     40263                 17        27476  \n",
       "103451                    100425                 21        35560  \n",
       "100329                         0                 58       134504  "
      ]
     },
     "execution_count": 10,
     "metadata": {},
     "output_type": "execute_result"
    }
   ],
   "source": [
    "df.head()"
   ]
  },
  {
   "cell_type": "code",
   "execution_count": 11,
   "metadata": {
    "collapsed": false
   },
   "outputs": [
    {
     "data": {
      "text/plain": [
       "Index(['Year', 'Mine Name', 'Mine State', 'Mine County', 'Mine Status',\n",
       "       'Mine Type', 'Company Type', 'Operation Type', 'Operating Company',\n",
       "       'Operating Company Address', 'Union Code', 'Coal Supply Region',\n",
       "       'Production (short tons)', 'Average Employees', 'Labor Hours'],\n",
       "      dtype='object')"
      ]
     },
     "execution_count": 11,
     "metadata": {},
     "output_type": "execute_result"
    }
   ],
   "source": [
    "df.columns"
   ]
  },
  {
   "cell_type": "code",
   "execution_count": 12,
   "metadata": {
    "collapsed": false
   },
   "outputs": [
    {
     "data": {
      "text/plain": [
       "array(['Indepedent Producer Operator', 'Operating Subsidiary', 'Contractor'], dtype=object)"
      ]
     },
     "execution_count": 12,
     "metadata": {},
     "output_type": "execute_result"
    }
   ],
   "source": [
    "df['Company Type'].unique()"
   ]
  },
  {
   "cell_type": "code",
   "execution_count": 15,
   "metadata": {
    "collapsed": false
   },
   "outputs": [],
   "source": [
    "df['Company Type'].replace(to_replace='Indepedent Producer Operator',value='Independent Producer Operator',inplace=True)"
   ]
  },
  {
   "cell_type": "code",
   "execution_count": 16,
   "metadata": {
    "collapsed": true
   },
   "outputs": [],
   "source": [
    "df.rename(columns=lambda x: x.replace(\" \",\"_\"), inplace=True)"
   ]
  },
  {
   "cell_type": "code",
   "execution_count": 17,
   "metadata": {
    "collapsed": false
   },
   "outputs": [
    {
     "data": {
      "text/plain": [
       "Index(['Year', 'Mine_Name', 'Mine_State', 'Mine_County', 'Mine_Status',\n",
       "       'Mine_Type', 'Company_Type', 'Operation_Type', 'Operating_Company',\n",
       "       'Operating_Company_Address', 'Union_Code', 'Coal_Supply_Region',\n",
       "       'Production_(short_tons)', 'Average_Employees', 'Labor_Hours'],\n",
       "      dtype='object')"
      ]
     },
     "execution_count": 17,
     "metadata": {},
     "output_type": "execute_result"
    }
   ],
   "source": [
    "df.columns"
   ]
  },
  {
   "cell_type": "code",
   "execution_count": 18,
   "metadata": {
    "collapsed": false
   },
   "outputs": [
    {
     "data": {
      "text/plain": [
       "1360"
      ]
     },
     "execution_count": 18,
     "metadata": {},
     "output_type": "execute_result"
    }
   ],
   "source": [
    "len(df)"
   ]
  },
  {
   "cell_type": "code",
   "execution_count": 21,
   "metadata": {
    "collapsed": false
   },
   "outputs": [
    {
     "data": {
      "text/plain": [
       "<matplotlib.text.Text at 0x14af28acdd8>"
      ]
     },
     "execution_count": 21,
     "metadata": {},
     "output_type": "execute_result"
    },
    {
     "data": {
      "image/png": "[encoded data removed]",
      "text/plain": [
       "<matplotlib.figure.Figure at 0x14af289eba8>"
      ]
     },
     "metadata": {},
     "output_type": "display_data"
    }
   ],
   "source": [
    "plt.scatter(df.Average_Employees,df.Labor_Hours)\n",
    "plt.xlabel(\"Average Employees\")\n",
    "plt.ylabel(\"Labor Hours\")"
   ]
  },
  {
   "cell_type": "code",
   "execution_count": 23,
   "metadata": {
    "collapsed": false
   },
   "outputs": [
    {
     "data": {
      "image/png": "[encoded data removed]",
      "text/plain": [
       "<matplotlib.figure.Figure at 0x14af293e8d0>"
      ]
     },
     "metadata": {},
     "output_type": "display_data"
    }
   ],
   "source": [
    "sns.regplot(df.Average_Employees,df.Labor_Hours)\n",
    "plt.savefig(\"../figures/201626_0630_135219\"+\"-employees_vs_hours.png\")"
   ]
  },
  {
   "cell_type": "code",
   "execution_count": 24,
   "metadata": {
    "collapsed": false
   },
   "outputs": [
    {
     "name": "stdout",
     "output_type": "stream",
     "text": [
      "Year\n",
      "Mine_Name\n",
      "Mine_State\n",
      "Mine_County\n",
      "Mine_Status\n",
      "Mine_Type\n",
      "Company_Type\n",
      "Operation_Type\n",
      "Operating_Company\n",
      "Operating_Company_Address\n",
      "Union_Code\n",
      "Coal_Supply_Region\n",
      "Production_(short_tons)\n",
      "Average_Employees\n",
      "Labor_Hours\n"
     ]
    }
   ],
   "source": [
    "for i in df.columns:\n",
    "    print (i)"
   ]
  },
  {
   "cell_type": "code",
   "execution_count": 25,
   "metadata": {
    "collapsed": true
   },
   "outputs": [],
   "source": [
    "# We remove non production site \n",
    "df = df[df['Production_(short_tons)'] >0]"
   ]
  },
  {
   "cell_type": "code",
   "execution_count": 26,
   "metadata": {
    "collapsed": false
   },
   "outputs": [
    {
     "data": {
      "text/plain": [
       "985"
      ]
     },
     "execution_count": 26,
     "metadata": {},
     "output_type": "execute_result"
    }
   ],
   "source": [
    "len(df)"
   ]
  },
  {
   "cell_type": "code",
   "execution_count": 27,
   "metadata": {
    "collapsed": false
   },
   "outputs": [
    {
     "data": {
      "text/plain": [
       "<matplotlib.axes._subplots.AxesSubplot at 0x14af25d49e8>"
      ]
     },
     "execution_count": 27,
     "metadata": {},
     "output_type": "execute_result"
    },
    {
     "data": {
      "image/png": "[encoded data removed]",
      "text/plain": [
       "<matplotlib.figure.Figure at 0x14af296f9b0>"
      ]
     },
     "metadata": {},
     "output_type": "display_data"
    }
   ],
   "source": [
    "df['Production_(short_tons)'].hist()"
   ]
  },
  {
   "cell_type": "code",
   "execution_count": 29,
   "metadata": {
    "collapsed": true
   },
   "outputs": [],
   "source": [
    "df['log_production'] = np.log(df['Production_(short_tons)'])"
   ]
  },
  {
   "cell_type": "code",
   "execution_count": 30,
   "metadata": {
    "collapsed": false
   },
   "outputs": [
    {
     "data": {
      "text/plain": [
       "<matplotlib.axes._subplots.AxesSubplot at 0x14af26d2860>"
      ]
     },
     "execution_count": 30,
     "metadata": {},
     "output_type": "execute_result"
    },
    {
     "data": {
      "image/png": "[encoded data removed]",
      "text/plain": [
       "<matplotlib.figure.Figure at 0x14af2987b38>"
      ]
     },
     "metadata": {},
     "output_type": "display_data"
    }
   ],
   "source": [
    "df.log_production.hist()"
   ]
  },
  {
   "cell_type": "code",
   "execution_count": 31,
   "metadata": {
    "collapsed": true
   },
   "outputs": [],
   "source": [
    "df.to_csv(\"../data/cleaned_coalplublic2014.csv\")"
   ]
  },
  {
   "cell_type": "code",
   "execution_count": null,
   "metadata": {
    "collapsed": true
   },
   "outputs": [],
   "source": []
  }
 ],
 "metadata": {
  "kernelspec": {
   "display_name": "Python 3",
   "language": "python",
   "name": "python3"
  },
  "language_info": {
   "codemirror_mode": {
    "name": "ipython",
    "version": 3
   },
   "file_extension": ".py",
   "mimetype": "text/x-python",
   "name": "python",
   "nbconvert_exporter": "python",
   "pygments_lexer": "ipython3",
   "version": "3.5.1"
  }
 },
 "nbformat": 4,
 "nbformat_minor": 0
}
